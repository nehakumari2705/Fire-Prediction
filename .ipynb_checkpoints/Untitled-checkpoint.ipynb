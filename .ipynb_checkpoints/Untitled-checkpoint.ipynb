{
 "cells": [
  {
   "cell_type": "code",
   "execution_count": null,
   "metadata": {},
   "outputs": [],
   "source": [
    "from flask import Flask,request, url_for, redirect, render_template\n",
    "import pickle\n",
    "import numpy as np\n",
    "\n",
    "app = Flask(__name__)\n",
    "\n",
    "model=pickle.load(open('model.pkl','rb'))\n",
    "\n",
    "\n",
    "@app.route('/')\n",
    "def hello_world():\n",
    "    return render_template(\"forest_fire.html\")\n",
    "\n",
    "\n",
    "@app.route('/predict',methods=['POST','GET'])\n",
    "def predict():\n",
    "    int_features=[int(x) for x in request.form.values()]\n",
    "    final=[np.array(int_features)]\n",
    "    print(int_features)\n",
    "    print(final)\n",
    "    prediction=model.predict_proba(final)\n",
    "    output='{0:.{1}f}'.format(prediction[0][1], 2)\n",
    "\n",
    "    if output>str(0.5):\n",
    "        return render_template('forest_fire.html',pred='Your Forest is in Danger.\\nProbability of fire occuring is {}'.format(output),bhai=\"kuch karna hain iska ab?\")\n",
    "    else:\n",
    "        return render_template('forest_fire.html',pred='Your Forest is safe.\\n Probability of fire occuring is {}'.format(output),bhai=\"Your Forest is Safe for now\")\n",
    "\n",
    "\n",
    "if __name__ == '__main__':\n",
    "    app.run(debug=True)"
   ]
  },
  {
   "cell_type": "code",
   "execution_count": null,
   "metadata": {},
   "outputs": [],
   "source": []
  }
 ],
 "metadata": {
  "kernelspec": {
   "display_name": "Python 3",
   "language": "python",
   "name": "python3"
  },
  "language_info": {
   "codemirror_mode": {
    "name": "ipython",
    "version": 3
   },
   "file_extension": ".py",
   "mimetype": "text/x-python",
   "name": "python",
   "nbconvert_exporter": "python",
   "pygments_lexer": "ipython3",
   "version": "3.7.4"
  }
 },
 "nbformat": 4,
 "nbformat_minor": 2
}
