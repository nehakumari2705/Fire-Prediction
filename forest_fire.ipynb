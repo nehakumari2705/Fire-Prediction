{
 "cells": [
  {
   "cell_type": "code",
   "execution_count": 1,
   "metadata": {},
   "outputs": [],
   "source": [
    "import pandas as pd"
   ]
  },
  {
   "cell_type": "code",
   "execution_count": 2,
   "metadata": {},
   "outputs": [],
   "source": [
    "data = pd.read_csv(\"Data.csv\")"
   ]
  },
  {
   "cell_type": "code",
   "execution_count": 3,
   "metadata": {},
   "outputs": [
    {
     "name": "stdout",
     "output_type": "stream",
     "text": [
      "<class 'pandas.core.frame.DataFrame'>\n",
      "RangeIndex: 40 entries, 0 to 39\n",
      "Data columns (total 5 columns):\n",
      "Area               0 non-null float64\n",
      "Oxygen             40 non-null int64\n",
      "Temperature        40 non-null int64\n",
      "Humidity           40 non-null int64\n",
      "Fire Occurrence    40 non-null int64\n",
      "dtypes: float64(1), int64(4)\n",
      "memory usage: 1.7 KB\n"
     ]
    }
   ],
   "source": [
    "data.info()"
   ]
  },
  {
   "cell_type": "code",
   "execution_count": 4,
   "metadata": {},
   "outputs": [
    {
     "data": {
      "text/html": [
       "<div>\n",
       "<style scoped>\n",
       "    .dataframe tbody tr th:only-of-type {\n",
       "        vertical-align: middle;\n",
       "    }\n",
       "\n",
       "    .dataframe tbody tr th {\n",
       "        vertical-align: top;\n",
       "    }\n",
       "\n",
       "    .dataframe thead th {\n",
       "        text-align: right;\n",
       "    }\n",
       "</style>\n",
       "<table border=\"1\" class=\"dataframe\">\n",
       "  <thead>\n",
       "    <tr style=\"text-align: right;\">\n",
       "      <th></th>\n",
       "      <th>Area</th>\n",
       "      <th>Oxygen</th>\n",
       "      <th>Temperature</th>\n",
       "      <th>Humidity</th>\n",
       "      <th>Fire Occurrence</th>\n",
       "    </tr>\n",
       "  </thead>\n",
       "  <tbody>\n",
       "    <tr>\n",
       "      <td>0</td>\n",
       "      <td>NaN</td>\n",
       "      <td>40</td>\n",
       "      <td>45</td>\n",
       "      <td>20</td>\n",
       "      <td>1</td>\n",
       "    </tr>\n",
       "    <tr>\n",
       "      <td>1</td>\n",
       "      <td>NaN</td>\n",
       "      <td>50</td>\n",
       "      <td>30</td>\n",
       "      <td>10</td>\n",
       "      <td>1</td>\n",
       "    </tr>\n",
       "    <tr>\n",
       "      <td>2</td>\n",
       "      <td>NaN</td>\n",
       "      <td>10</td>\n",
       "      <td>20</td>\n",
       "      <td>70</td>\n",
       "      <td>0</td>\n",
       "    </tr>\n",
       "    <tr>\n",
       "      <td>3</td>\n",
       "      <td>NaN</td>\n",
       "      <td>60</td>\n",
       "      <td>45</td>\n",
       "      <td>70</td>\n",
       "      <td>1</td>\n",
       "    </tr>\n",
       "    <tr>\n",
       "      <td>4</td>\n",
       "      <td>NaN</td>\n",
       "      <td>30</td>\n",
       "      <td>48</td>\n",
       "      <td>10</td>\n",
       "      <td>1</td>\n",
       "    </tr>\n",
       "  </tbody>\n",
       "</table>\n",
       "</div>"
      ],
      "text/plain": [
       "   Area   Oxygen  Temperature  Humidity  Fire Occurrence\n",
       "0    NaN      40           45        20                1\n",
       "1    NaN      50           30        10                1\n",
       "2    NaN      10           20        70                0\n",
       "3    NaN      60           45        70                1\n",
       "4    NaN      30           48        10                1"
      ]
     },
     "execution_count": 4,
     "metadata": {},
     "output_type": "execute_result"
    }
   ],
   "source": [
    "data.head()"
   ]
  },
  {
   "cell_type": "code",
   "execution_count": 5,
   "metadata": {},
   "outputs": [],
   "source": [
    "import numpy as np"
   ]
  },
  {
   "cell_type": "code",
   "execution_count": 6,
   "metadata": {},
   "outputs": [],
   "source": [
    "data = np.array(data)"
   ]
  },
  {
   "cell_type": "code",
   "execution_count": 7,
   "metadata": {},
   "outputs": [
    {
     "data": {
      "text/plain": [
       "array([[ nan,  40.,  45.,  20.,   1.],\n",
       "       [ nan,  50.,  30.,  10.,   1.],\n",
       "       [ nan,  10.,  20.,  70.,   0.],\n",
       "       [ nan,  60.,  45.,  70.,   1.],\n",
       "       [ nan,  30.,  48.,  10.,   1.],\n",
       "       [ nan,  30.,  48.,  10.,   1.],\n",
       "       [ nan,  50.,  15.,  30.,   0.],\n",
       "       [ nan,   5.,  35.,  35.,   0.],\n",
       "       [ nan,   5.,  20.,  70.,   0.],\n",
       "       [ nan,  60.,  32.,  17.,   1.],\n",
       "       [ nan,  30.,  50.,  45.,   1.],\n",
       "       [ nan,  40.,  55.,  80.,   1.],\n",
       "       [ nan,  30.,  39., 100.,   0.],\n",
       "       [ nan,  10.,  12.,  12.,   0.],\n",
       "       [ nan,  20.,  23.,  23.,   0.],\n",
       "       [ nan,  60.,  34.,  15.,   1.],\n",
       "       [ nan,  80.,   4.,  68.,   0.],\n",
       "       [ nan,  25.,  56.,  79.,   1.],\n",
       "       [ nan,  12.,  45.,  90.,   0.],\n",
       "       [ nan,  28.,  43.,  15.,   1.],\n",
       "       [ nan,  26.,   0.,  32.,   0.],\n",
       "       [ nan,  32.,  37.,  21.,   1.],\n",
       "       [ nan,  45.,  48.,  12.,   1.],\n",
       "       [ nan,  56.,  15.,  65.,   0.],\n",
       "       [ nan,  67.,  45.,  33.,   1.],\n",
       "       [ nan,  78.,  49.,   8.,   1.],\n",
       "       [ nan,  89.,  45.,  18.,   1.],\n",
       "       [ nan,  21.,  12.,  44.,   0.],\n",
       "       [ nan,  11.,  20.,  59.,   0.],\n",
       "       [ nan,   1.,  32.,  70.,   0.],\n",
       "       [ nan,   5.,  20.,  45.,   0.],\n",
       "       [ nan,  42.,  43.,  20.,   1.],\n",
       "       [ nan,  32.,  60.,  30.,   1.],\n",
       "       [ nan,   5.,  15.,   5.,   0.],\n",
       "       [ nan,  20.,  30.,   5.,   0.],\n",
       "       [ nan,  30.,  51.,   2.,   1.],\n",
       "       [ nan,  60.,  60.,  10.,   1.],\n",
       "       [ nan,  10.,  10.,  60.,   0.],\n",
       "       [ nan,   0.,  30.,   0.,   0.],\n",
       "       [ nan,  45.,  45.,  15.,   1.]])"
      ]
     },
     "execution_count": 7,
     "metadata": {},
     "output_type": "execute_result"
    }
   ],
   "source": [
    "data\n"
   ]
  },
  {
   "cell_type": "code",
   "execution_count": 8,
   "metadata": {},
   "outputs": [],
   "source": [
    "x = data[:,1:-1]"
   ]
  },
  {
   "cell_type": "code",
   "execution_count": 11,
   "metadata": {},
   "outputs": [
    {
     "data": {
      "text/plain": [
       "array([[ 40.,  45.,  20.],\n",
       "       [ 50.,  30.,  10.],\n",
       "       [ 10.,  20.,  70.],\n",
       "       [ 60.,  45.,  70.],\n",
       "       [ 30.,  48.,  10.],\n",
       "       [ 30.,  48.,  10.],\n",
       "       [ 50.,  15.,  30.],\n",
       "       [  5.,  35.,  35.],\n",
       "       [  5.,  20.,  70.],\n",
       "       [ 60.,  32.,  17.],\n",
       "       [ 30.,  50.,  45.],\n",
       "       [ 40.,  55.,  80.],\n",
       "       [ 30.,  39., 100.],\n",
       "       [ 10.,  12.,  12.],\n",
       "       [ 20.,  23.,  23.],\n",
       "       [ 60.,  34.,  15.],\n",
       "       [ 80.,   4.,  68.],\n",
       "       [ 25.,  56.,  79.],\n",
       "       [ 12.,  45.,  90.],\n",
       "       [ 28.,  43.,  15.],\n",
       "       [ 26.,   0.,  32.],\n",
       "       [ 32.,  37.,  21.],\n",
       "       [ 45.,  48.,  12.],\n",
       "       [ 56.,  15.,  65.],\n",
       "       [ 67.,  45.,  33.],\n",
       "       [ 78.,  49.,   8.],\n",
       "       [ 89.,  45.,  18.],\n",
       "       [ 21.,  12.,  44.],\n",
       "       [ 11.,  20.,  59.],\n",
       "       [  1.,  32.,  70.],\n",
       "       [  5.,  20.,  45.],\n",
       "       [ 42.,  43.,  20.],\n",
       "       [ 32.,  60.,  30.],\n",
       "       [  5.,  15.,   5.],\n",
       "       [ 20.,  30.,   5.],\n",
       "       [ 30.,  51.,   2.],\n",
       "       [ 60.,  60.,  10.],\n",
       "       [ 10.,  10.,  60.],\n",
       "       [  0.,  30.,   0.],\n",
       "       [ 45.,  45.,  15.]])"
      ]
     },
     "execution_count": 11,
     "metadata": {},
     "output_type": "execute_result"
    }
   ],
   "source": [
    "x"
   ]
  },
  {
   "cell_type": "code",
   "execution_count": 12,
   "metadata": {},
   "outputs": [],
   "source": [
    "y = data[:,-1]"
   ]
  },
  {
   "cell_type": "code",
   "execution_count": 13,
   "metadata": {},
   "outputs": [
    {
     "data": {
      "text/plain": [
       "array([1., 1., 0., 1., 1., 1., 0., 0., 0., 1., 1., 1., 0., 0., 0., 1., 0.,\n",
       "       1., 0., 1., 0., 1., 1., 0., 1., 1., 1., 0., 0., 0., 0., 1., 1., 0.,\n",
       "       0., 1., 1., 0., 0., 1.])"
      ]
     },
     "execution_count": 13,
     "metadata": {},
     "output_type": "execute_result"
    }
   ],
   "source": [
    "y"
   ]
  },
  {
   "cell_type": "code",
   "execution_count": 14,
   "metadata": {},
   "outputs": [],
   "source": [
    "x = x.astype('int')"
   ]
  },
  {
   "cell_type": "code",
   "execution_count": 15,
   "metadata": {},
   "outputs": [
    {
     "data": {
      "text/plain": [
       "array([[ 40,  45,  20],\n",
       "       [ 50,  30,  10],\n",
       "       [ 10,  20,  70],\n",
       "       [ 60,  45,  70],\n",
       "       [ 30,  48,  10],\n",
       "       [ 30,  48,  10],\n",
       "       [ 50,  15,  30],\n",
       "       [  5,  35,  35],\n",
       "       [  5,  20,  70],\n",
       "       [ 60,  32,  17],\n",
       "       [ 30,  50,  45],\n",
       "       [ 40,  55,  80],\n",
       "       [ 30,  39, 100],\n",
       "       [ 10,  12,  12],\n",
       "       [ 20,  23,  23],\n",
       "       [ 60,  34,  15],\n",
       "       [ 80,   4,  68],\n",
       "       [ 25,  56,  79],\n",
       "       [ 12,  45,  90],\n",
       "       [ 28,  43,  15],\n",
       "       [ 26,   0,  32],\n",
       "       [ 32,  37,  21],\n",
       "       [ 45,  48,  12],\n",
       "       [ 56,  15,  65],\n",
       "       [ 67,  45,  33],\n",
       "       [ 78,  49,   8],\n",
       "       [ 89,  45,  18],\n",
       "       [ 21,  12,  44],\n",
       "       [ 11,  20,  59],\n",
       "       [  1,  32,  70],\n",
       "       [  5,  20,  45],\n",
       "       [ 42,  43,  20],\n",
       "       [ 32,  60,  30],\n",
       "       [  5,  15,   5],\n",
       "       [ 20,  30,   5],\n",
       "       [ 30,  51,   2],\n",
       "       [ 60,  60,  10],\n",
       "       [ 10,  10,  60],\n",
       "       [  0,  30,   0],\n",
       "       [ 45,  45,  15]])"
      ]
     },
     "execution_count": 15,
     "metadata": {},
     "output_type": "execute_result"
    }
   ],
   "source": [
    "x"
   ]
  },
  {
   "cell_type": "code",
   "execution_count": 16,
   "metadata": {},
   "outputs": [],
   "source": [
    "y  = y.astype('int')"
   ]
  },
  {
   "cell_type": "code",
   "execution_count": 18,
   "metadata": {},
   "outputs": [],
   "source": [
    "from sklearn.linear_model import LogisticRegression"
   ]
  },
  {
   "cell_type": "code",
   "execution_count": 19,
   "metadata": {},
   "outputs": [],
   "source": [
    "from sklearn.model_selection import train_test_split"
   ]
  },
  {
   "cell_type": "code",
   "execution_count": 30,
   "metadata": {},
   "outputs": [],
   "source": [
    "X_train, y_train, X_test, Y_text = train_test_split(x,y,test_size=0.3,random_state=0)"
   ]
  },
  {
   "cell_type": "code",
   "execution_count": 31,
   "metadata": {},
   "outputs": [],
   "source": [
    "log_reg = LogisticRegression"
   ]
  },
  {
   "cell_type": "code",
   "execution_count": 32,
   "metadata": {},
   "outputs": [
    {
     "ename": "TypeError",
     "evalue": "fit() missing 1 required positional argument: 'y'",
     "output_type": "error",
     "traceback": [
      "\u001b[1;31m---------------------------------------------------------------------------\u001b[0m",
      "\u001b[1;31mTypeError\u001b[0m                                 Traceback (most recent call last)",
      "\u001b[1;32m<ipython-input-32-e865675828e4>\u001b[0m in \u001b[0;36m<module>\u001b[1;34m\u001b[0m\n\u001b[1;32m----> 1\u001b[1;33m \u001b[0mlog_reg\u001b[0m\u001b[1;33m.\u001b[0m\u001b[0mfit\u001b[0m\u001b[1;33m(\u001b[0m\u001b[0mX_train\u001b[0m\u001b[1;33m,\u001b[0m \u001b[0my_train\u001b[0m\u001b[1;33m)\u001b[0m\u001b[1;33m\u001b[0m\u001b[1;33m\u001b[0m\u001b[0m\n\u001b[0m",
      "\u001b[1;31mTypeError\u001b[0m: fit() missing 1 required positional argument: 'y'"
     ]
    }
   ],
   "source": [
    "log_reg.fit(X_train, y_train)"
   ]
  },
  {
   "cell_type": "code",
   "execution_count": null,
   "metadata": {},
   "outputs": [],
   "source": []
  }
 ],
 "metadata": {
  "kernelspec": {
   "display_name": "Python 3",
   "language": "python",
   "name": "python3"
  },
  "language_info": {
   "codemirror_mode": {
    "name": "ipython",
    "version": 3
   },
   "file_extension": ".py",
   "mimetype": "text/x-python",
   "name": "python",
   "nbconvert_exporter": "python",
   "pygments_lexer": "ipython3",
   "version": "3.7.4"
  }
 },
 "nbformat": 4,
 "nbformat_minor": 2
}
